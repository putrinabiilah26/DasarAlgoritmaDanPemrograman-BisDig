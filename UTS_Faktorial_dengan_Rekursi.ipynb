{
  "nbformat": 4,
  "nbformat_minor": 0,
  "metadata": {
    "colab": {
      "provenance": []
    },
    "kernelspec": {
      "name": "python3",
      "display_name": "Python 3"
    },
    "language_info": {
      "name": "python"
    }
  },
  "cells": [
    {
      "cell_type": "markdown",
      "source": [
        "FAKTORIAL DENGAN REKURSI"
      ],
      "metadata": {
        "id": "KWWsUnyTpaDD"
      }
    },
    {
      "cell_type": "code",
      "source": [
        "def factorial(n):\n",
        "    \"\"\"\n",
        "    Menghitung faktorial dari bilangan n secara rekursif.\n",
        "\n",
        "    Parameter:\n",
        "    n (int): Bilangan bulat non-negatif\n",
        "\n",
        "    Returns:\n",
        "    int: Faktorial dari n\n",
        "    \"\"\"\n",
        "    if n == 0 or n == 1:\n",
        "        return 1\n",
        "    else:\n",
        "        return n * factorial(n - 1)\n",
        "\n",
        "def main():\n",
        "    try:\n",
        "        angka = int(input(\"Masukkan angka (bilangan bulat non-negatif): \"))\n",
        "        if angka < 0:\n",
        "            print(\"Error: Masukkan angka non-negatif.\")\n",
        "            return\n",
        "        hasil = factorial(angka)\n",
        "        print(f\"Faktorial dari {angka} adalah {hasil}.\")\n",
        "    except ValueError:\n",
        "        print(\"Error: Masukkan input yang valid (bilangan bulat).\")\n",
        "\n",
        "if __name__ == \"__main__\":\n",
        "    main()"
      ],
      "metadata": {
        "colab": {
          "base_uri": "https://localhost:8080/"
        },
        "id": "aLXZYmW8wCzo",
        "outputId": "a33e763f-cbb1-4113-fc6f-e4a8d2eb55dd"
      },
      "execution_count": null,
      "outputs": [
        {
          "output_type": "stream",
          "name": "stdout",
          "text": [
            "Masukkan angka (bilangan bulat non-negatif): 5\n",
            "Faktorial dari 5 adalah 120.\n"
          ]
        }
      ]
    }
  ]
}