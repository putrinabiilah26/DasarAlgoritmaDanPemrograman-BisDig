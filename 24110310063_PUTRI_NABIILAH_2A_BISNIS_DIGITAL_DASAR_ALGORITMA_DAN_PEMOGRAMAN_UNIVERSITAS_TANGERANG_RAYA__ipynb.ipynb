{
  "nbformat": 4,
  "nbformat_minor": 0,
  "metadata": {
    "colab": {
      "provenance": []
    },
    "kernelspec": {
      "name": "python3",
      "display_name": "Python 3"
    },
    "language_info": {
      "name": "python"
    }
  },
  "cells": [
    {
      "cell_type": "code",
      "execution_count": 2,
      "metadata": {
        "colab": {
          "base_uri": "https://localhost:8080/"
        },
        "id": "6FPGsBClBz5u",
        "outputId": "2918e117-1641-4337-82e1-325f942e1896"
      },
      "outputs": [
        {
          "output_type": "stream",
          "name": "stdout",
          "text": [
            "Masukkan nilai 5 siswa:\n",
            "Nilai siswa ke-1: 65\n",
            "Nilai siswa ke-2: 78\n",
            "Nilai siswa ke-3: 90\n",
            "Nilai siswa ke-4: 96\n",
            "Nilai siswa ke-5: 85\n",
            "\n",
            "Hasil:\n",
            "Nilai tertinggi adalah 96.0, didapat oleh siswa ke-4\n"
          ]
        }
      ],
      "source": [
        "def main():\n",
        "    nilai_siswa = []\n",
        "    print(\"Masukkan nilai 5 siswa:\")\n",
        "\n",
        "    for i in range(5):\n",
        "        while True:\n",
        "            try:\n",
        "                nilai = float(input(f\"Nilai siswa ke-{i+1}: \"))\n",
        "                nilai_siswa.append(nilai)\n",
        "                break\n",
        "            except ValueError:\n",
        "                print(\"Masukkan angka yang valid!\")\n",
        "\n",
        "    nilai_tertinggi = max(nilai_siswa)\n",
        "    indeks_tertinggi = nilai_siswa.index(nilai_tertinggi) + 1\n",
        "\n",
        "    print(\"\\nHasil:\")\n",
        "    print(f\"Nilai tertinggi adalah {nilai_tertinggi}, didapat oleh siswa ke-{indeks_tertinggi}\")\n",
        "\n",
        "if __name__ == \"__main__\":\n",
        "    main()"
      ]
    }
  ]
}