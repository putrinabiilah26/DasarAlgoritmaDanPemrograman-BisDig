{
  "nbformat": 4,
  "nbformat_minor": 0,
  "metadata": {
    "colab": {
      "provenance": []
    },
    "kernelspec": {
      "name": "python3",
      "display_name": "Python 3"
    },
    "language_info": {
      "name": "python"
    }
  },
  "cells": [
    {
      "cell_type": "markdown",
      "source": [
        "Menentukan Lulus dari Rata-rata 3 Nilai"
      ],
      "metadata": {
        "id": "apJozfpOU8Ba"
      }
    },
    {
      "cell_type": "code",
      "execution_count": 2,
      "metadata": {
        "colab": {
          "base_uri": "https://localhost:8080/"
        },
        "id": "XbWdC7c-UDz_",
        "outputId": "11379279-9d10-4a04-ef02-c60220aa3ef9"
      },
      "outputs": [
        {
          "output_type": "stream",
          "name": "stdout",
          "text": [
            "Program Cek Kelulusan Berdasarkan Rata-Rata Nilai\n",
            "Masukkan nilai mata pelajaran 1: 54\n",
            "Masukkan nilai mata pelajaran 2: 46\n",
            "Masukkan nilai mata pelajaran 3: 67\n",
            "\n",
            "--- Hasil Evaluasi ---\n",
            "Rata-rata Nilai: 55.67\n",
            "Status Kelulusan: TIDAK LULUS\n"
          ]
        }
      ],
      "source": [
        "def hitung_rata_rata(nilai1, nilai2, nilai3):\n",
        "    rata = (nilai1 + nilai2 + nilai3) / 3\n",
        "    return rata\n",
        "\n",
        "def cek_kelulusan(rata_rata):\n",
        "    if rata_rata >= 75:\n",
        "        return \"LULUS\"\n",
        "    else:\n",
        "        return \"TIDAK LULUS\"\n",
        "\n",
        "def main():\n",
        "    print(\"Program Cek Kelulusan Berdasarkan Rata-Rata Nilai\")\n",
        "    try:\n",
        "        nilai1 = float(input(\"Masukkan nilai mata pelajaran 1: \"))\n",
        "        nilai2 = float(input(\"Masukkan nilai mata pelajaran 2: \"))\n",
        "        nilai3 = float(input(\"Masukkan nilai mata pelajaran 3: \"))\n",
        "\n",
        "        rata_rata = hitung_rata_rata(nilai1, nilai2, nilai3)\n",
        "        status = cek_kelulusan(rata_rata)\n",
        "\n",
        "        print(\"\\n--- Hasil Evaluasi ---\")\n",
        "        print(f\"Rata-rata Nilai: {rata_rata:.2f}\")\n",
        "        print(f\"Status Kelulusan: {status}\")\n",
        "    except ValueError:\n",
        "        print(\"Input tidak valid. Masukkan angka dengan benar.\")\n",
        "\n",
        "if __name__ == \"__main__\":\n",
        "    main()"
      ]
    }
  ]
}