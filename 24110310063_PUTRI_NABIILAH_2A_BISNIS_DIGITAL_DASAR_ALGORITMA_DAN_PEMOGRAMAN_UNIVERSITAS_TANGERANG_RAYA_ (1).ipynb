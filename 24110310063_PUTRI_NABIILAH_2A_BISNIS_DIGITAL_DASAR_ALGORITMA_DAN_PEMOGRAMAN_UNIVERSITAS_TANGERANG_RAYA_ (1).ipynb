{
  "nbformat": 4,
  "nbformat_minor": 0,
  "metadata": {
    "colab": {
      "provenance": []
    },
    "kernelspec": {
      "name": "python3",
      "display_name": "Python 3"
    },
    "language_info": {
      "name": "python"
    }
  },
  "cells": [
    {
      "cell_type": "code",
      "execution_count": 7,
      "metadata": {
        "colab": {
          "base_uri": "https://localhost:8080/"
        },
        "id": "p0X-nwxiH0XD",
        "outputId": "8262509e-67e3-4fef-d9b3-f14acd4a7c7b"
      },
      "outputs": [
        {
          "output_type": "stream",
          "name": "stdout",
          "text": [
            "Masukkan total belanja Anda (Rp): 670000\n",
            "\n",
            "Struk Pembayaran:\n",
            "Total Belanja : Rp670,000\n",
            "Diskon        : Rp67,000\n",
            "Total Bayar   : Rp603,000\n"
          ]
        }
      ],
      "source": [
        "def hitung_total_bayar(total_belanja):\n",
        "    if total_belanja > 500000:\n",
        "        diskon = total_belanja * 0.10\n",
        "        total_bayar = total_belanja - diskon\n",
        "    else:\n",
        "        diskon = 0\n",
        "        total_bayar = total_belanja\n",
        "\n",
        "    return diskon, total_bayar\n",
        "\n",
        "def main():\n",
        "    try:\n",
        "        total = float(input(\"Masukkan total belanja Anda (Rp): \"))\n",
        "        diskon, bayar = hitung_total_bayar(total)\n",
        "\n",
        "        print(\"\\nStruk Pembayaran:\")\n",
        "        print(f\"Total Belanja : Rp{total:,.0f}\")\n",
        "        print(f\"Diskon        : Rp{diskon:,.0f}\")\n",
        "        print(f\"Total Bayar   : Rp{bayar:,.0f}\")\n",
        "    except ValueError:\n",
        "        print(\"Masukkan angka yang valid!\")\n",
        "\n",
        "if __name__ == \"__main__\":\n",
        "    main()"
      ]
    }
  ]
}