{
  "nbformat": 4,
  "nbformat_minor": 0,
  "metadata": {
    "colab": {
      "provenance": []
    },
    "kernelspec": {
      "name": "python3",
      "display_name": "Python 3"
    },
    "language_info": {
      "name": "python"
    }
  },
  "cells": [
    {
      "cell_type": "markdown",
      "source": [
        "FAKTORIAL DENGAN REKURSI"
      ],
      "metadata": {
        "id": "KWWsUnyTpaDD"
      }
    },
    {
      "cell_type": "code",
      "execution_count": 28,
      "metadata": {
        "colab": {
          "base_uri": "https://localhost:8080/"
        },
        "id": "OF1IftKAm_K1",
        "outputId": "fd907024-29da-452a-897f-3a99a0cdd6fc"
      },
      "outputs": [
        {
          "output_type": "stream",
          "name": "stdout",
          "text": [
            "=== Program Menghitung Faktorial ===\n",
            "Masukkan bilangan bulat non negatif:5\n",
            "Faktorial dari 5 adalah 120\n"
          ]
        }
      ],
      "source": [
        "print(\"=== Program Menghitung Faktorial ===\")\n",
        "\n",
        "def faktorial(n):\n",
        "  if n == 0 or n == 1:\n",
        "    return 1\n",
        "  else:\n",
        "    return n * faktorial(n-1)\n",
        "\n",
        "angka = int(input('Masukkan bilangan bulat non negatif:'))\n",
        "hasil = faktorial(angka)\n",
        "print(f'Faktorial dari {angka} adalah {hasil}')"
      ]
    }
  ]
}