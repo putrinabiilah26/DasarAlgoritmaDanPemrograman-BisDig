{
  "nbformat": 4,
  "nbformat_minor": 0,
  "metadata": {
    "colab": {
      "provenance": []
    },
    "kernelspec": {
      "name": "python3",
      "display_name": "Python 3"
    },
    "language_info": {
      "name": "python"
    }
  },
  "cells": [
    {
      "cell_type": "markdown",
      "source": [
        "Kasir Menghitung Total 3 Barang"
      ],
      "metadata": {
        "id": "XjGFzHAPRVj0"
      }
    },
    {
      "cell_type": "code",
      "execution_count": 1,
      "metadata": {
        "id": "nqg-4QCgPWy2",
        "colab": {
          "base_uri": "https://localhost:8080/"
        },
        "outputId": "2b408651-6091-4edc-af2d-a97d888e0155"
      },
      "outputs": [
        {
          "output_type": "stream",
          "name": "stdout",
          "text": [
            "Sistem Kasir Toko — Hitung Total Harga 3 Barang\n",
            "Masukkan harga barang pertama (Rp): 86000\n",
            "Masukkan harga barang kedua  (Rp): 72300\n",
            "Masukkan harga barang ketiga  (Rp): 52000\n",
            "\n",
            "--- Struk Pembayaran ---\n",
            "Harga Barang 1 : Rp86,000\n",
            "Harga Barang 2 : Rp72,300\n",
            "Harga Barang 3 : Rp52,000\n",
            "Total Pembayaran: Rp210,300\n"
          ]
        }
      ],
      "source": [
        "def hitung_total_harga(harga1, harga2, harga3):\n",
        "    total = harga1 + harga2 + harga3\n",
        "    return total\n",
        "\n",
        "def main():\n",
        "    print(\"Sistem Kasir Toko — Hitung Total Harga 3 Barang\")\n",
        "    try:\n",
        "        barang1 = float(input(\"Masukkan harga barang pertama (Rp): \"))\n",
        "        barang2 = float(input(\"Masukkan harga barang kedua  (Rp): \"))\n",
        "        barang3 = float(input(\"Masukkan harga barang ketiga  (Rp): \"))\n",
        "\n",
        "        total = hitung_total_harga(barang1, barang2, barang3)\n",
        "\n",
        "        print(\"\\n--- Struk Pembayaran ---\")\n",
        "        print(f\"Harga Barang 1 : Rp{barang1:,.0f}\")\n",
        "        print(f\"Harga Barang 2 : Rp{barang2:,.0f}\")\n",
        "        print(f\"Harga Barang 3 : Rp{barang3:,.0f}\")\n",
        "        print(f\"Total Pembayaran: Rp{total:,.0f}\")\n",
        "    except ValueError:\n",
        "        print(\"Input tidak valid. Harap masukkan angka yang sesuai.\")\n",
        "\n",
        "if __name__ == \"__main__\":\n",
        "    main()"
      ]
    }
  ]
}